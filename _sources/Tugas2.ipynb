{
 "cells": [
  {
   "cell_type": "markdown",
   "metadata": {},
   "source": [
    "# ALJABAR MATRIKS"
   ]
  },
  {
   "cell_type": "markdown",
   "metadata": {},
   "source": [
    "Berikan pengertian apa itu Aljabar matrix\n",
    "\n",
    "Buatlah Matrix A(3x3),B(2x3),C(3x2)\n",
    "\n",
    "Operasi Matrix\n",
    "\n",
    "Penjumlahan\n",
    "Perkalian\n",
    "Pengurangan\n",
    "Tranpose Matrix\n",
    "Buat program untuk mengkalikan Matrix A dengan Matrix B tidak menggunakan @\n",
    "\n",
    "Pengertian Matrix: Matrix merupakan suatu kumpulan bilangan sejumlah m x n yang disusun menjadi m baris dan n kolom"
   ]
  },
  {
   "cell_type": "code",
   "execution_count": 7,
   "metadata": {},
   "outputs": [],
   "source": [
    "import numpy as np"
   ]
  },
  {
   "cell_type": "code",
   "execution_count": 8,
   "metadata": {},
   "outputs": [],
   "source": [
    "# Matrix\n",
    "A = np.array([[1,3,9],[3,-2,6],[9,4,1]]) # matrix 3x3\n",
    "B = np.array([[1,7,5],[2,4,5],[1,-1,4]]) # matrix 3x3\n",
    "C = np.array([[3,2],[-1,2],[3,5]]) # matrix 3x2\n",
    "D = np.array([[2,4,8],[2,-1,5],[-8,5,2]]) # matrix 3x3\n",
    "E = (A+B)\n",
    "F = 2*(A)\n",
    "G = A @ C"
   ]
  },
  {
   "cell_type": "code",
   "execution_count": 9,
   "metadata": {},
   "outputs": [
    {
     "name": "stdout",
     "output_type": "stream",
     "text": [
      "Matrix A 3x3: \n",
      "[[ 1  3  9]\n",
      " [ 3 -2  6]\n",
      " [ 9  4  1]]\n",
      " Matrix B 3x3: \n",
      "[[ 1  7  5]\n",
      " [ 2  4  5]\n",
      " [ 1 -1  4]]\n",
      "Matrix C 3x2: \n",
      "[[ 3  2]\n",
      " [-1  2]\n",
      " [ 3  5]]\n",
      "Matrix D 3x3: \n",
      "[[ 2  4  8]\n",
      " [ 2 -1  5]\n",
      " [-8  5  2]]\n"
     ]
    }
   ],
   "source": [
    "print(f\"Matrix A 3x3: \\n{A}\")\n",
    "print(f\" Matrix B 3x3: \\n{B}\")\n",
    "print(f\"Matrix C 3x2: \\n{C}\")\n",
    "print(f\"Matrix D 3x3: \\n{D}\")"
   ]
  },
  {
   "cell_type": "markdown",
   "metadata": {},
   "source": [
    "Operasi Penjumlahan Matrix"
   ]
  },
  {
   "cell_type": "code",
   "execution_count": 10,
   "metadata": {},
   "outputs": [
    {
     "name": "stdout",
     "output_type": "stream",
     "text": [
      "Matrix E =\n",
      "[[ 2 10 14]\n",
      " [ 5  2 11]\n",
      " [10  3  5]]\n"
     ]
    }
   ],
   "source": [
    "# Matrix A+B\n",
    "E = (A+B)\n",
    "print(f\"Matrix E =\\n{E}\")"
   ]
  },
  {
   "cell_type": "markdown",
   "metadata": {},
   "source": [
    "Operasi Perkalian Matrix"
   ]
  },
  {
   "cell_type": "code",
   "execution_count": 11,
   "metadata": {},
   "outputs": [
    {
     "name": "stdout",
     "output_type": "stream",
     "text": [
      "Matrix G =\n",
      "[[27 53]\n",
      " [29 32]\n",
      " [26 31]]\n",
      "Ukuran Matrix = (3, 2)\n"
     ]
    }
   ],
   "source": [
    "# Matrix A x C\n",
    "G = A @ C\n",
    "print(f\"Matrix G =\\n{G}\")\n",
    "print(f\"Ukuran Matrix = {G.shape}\")"
   ]
  },
  {
   "cell_type": "markdown",
   "metadata": {},
   "source": [
    "Operasi Pengurangan Matrix"
   ]
  },
  {
   "cell_type": "code",
   "execution_count": 12,
   "metadata": {},
   "outputs": [
    {
     "name": "stdout",
     "output_type": "stream",
     "text": [
      "Matrix G =\n",
      "[[ 0 -4  4]\n",
      " [ 1 -6  1]\n",
      " [ 8  5 -3]]\n"
     ]
    }
   ],
   "source": [
    "# Matrix A - B\n",
    "H  = A - B\n",
    "print(f\"Matrix G =\\n{H}\")"
   ]
  },
  {
   "cell_type": "markdown",
   "metadata": {},
   "source": [
    "Operasi Persamaan Matrix\n",
    "\n",
    "Matrix A(BxC) = Matrix (AxB)C"
   ]
  },
  {
   "cell_type": "code",
   "execution_count": 13,
   "metadata": {},
   "outputs": [
    {
     "data": {
      "text/plain": [
       "array([[ True,  True],\n",
       "       [ True,  True],\n",
       "       [ True,  True]])"
      ]
     },
     "execution_count": 13,
     "metadata": {},
     "output_type": "execute_result"
    }
   ],
   "source": [
    "Matrix1 = A@(B@C)\n",
    "Matrix2 = (A@B)@C\n",
    "Matrix1 == Matrix2"
   ]
  },
  {
   "cell_type": "markdown",
   "metadata": {},
   "source": [
    "Matrix c(AB) = Matrix (cA)B = Matrix A(cB)"
   ]
  },
  {
   "cell_type": "code",
   "execution_count": 14,
   "metadata": {},
   "outputs": [
    {
     "name": "stdout",
     "output_type": "stream",
     "text": [
      "[[ 32  20 112]\n",
      " [ 10  14  58]\n",
      " [ 36 156 138]]\n",
      "\n",
      "[[ 32  20 112]\n",
      " [ 10  14  58]\n",
      " [ 36 156 138]]\n",
      "\n",
      "[[ 32  20 112]\n",
      " [ 10  14  58]\n",
      " [ 36 156 138]]\n"
     ]
    }
   ],
   "source": [
    "c = 2\n",
    "Matrix_3 = c*(A@B)\n",
    "Matrix_4 = (c*A)@B\n",
    "Matrix_5 = A@(c*B)\n",
    "print(Matrix_3)\n",
    "print()\n",
    "print(Matrix_4)\n",
    "print()\n",
    "print(Matrix_5)"
   ]
  },
  {
   "cell_type": "markdown",
   "metadata": {},
   "source": [
    "Tranpose Matrix\n",
    "\n",
    "Anggap Baris = m, Kolom = n\n",
    "\n",
    "> C = A_trans @ A\n",
    "\n",
    "> (n x m) @ (m x n) = n * n\n",
    "\n",
    "contoh: [2 x 3] @ [3 x 2] = [2 x 2]\n",
    "\n",
    "> C = A @ A_trans\n",
    "\n",
    "> (m x n) @ (n x m) = m x m\n",
    "\n",
    "contoh: [3 x 2] @ [2 x 3] = [3 x 3]"
   ]
  },
  {
   "cell_type": "code",
   "execution_count": 15,
   "metadata": {},
   "outputs": [
    {
     "name": "stdout",
     "output_type": "stream",
     "text": [
      "Matrik A sebelum di transpose=\n",
      " [[ 1  3  9]\n",
      " [ 3 -2  6]\n",
      " [ 9  4  1]]\n",
      "\n",
      "Matrik A setelah di transpose=\n",
      " [[ 1  3  9]\n",
      " [ 3 -2  4]\n",
      " [ 9  6  1]]\n",
      "Ordo A_transpose adalah (3, 3)\n",
      "\n",
      "Z = A_transpose x A =\n",
      " [[ 91  33  36]\n",
      " [ 33  29  19]\n",
      " [ 36  19 118]]\n",
      "Ordo Z adalah (3, 3)\n",
      "\n",
      "P = A_transpose x A =\n",
      " [[91 51 30]\n",
      " [51 49 25]\n",
      " [30 25 98]]\n",
      "Ordo P adalah (3, 3)\n"
     ]
    }
   ],
   "source": [
    "# Contoh dengan Martrix 3x3\n",
    "\n",
    "A_tran = A.transpose()\n",
    "print('Matrik A sebelum di transpose=\\n', A)\n",
    "print()\n",
    "print('Matrik A setelah di transpose=\\n',A_tran)\n",
    "print('Ordo A_transpose adalah',A_tran.shape)\n",
    "print()\n",
    "Z = A_tran @ A\n",
    "print('Z = A_transpose x A =\\n',Z)\n",
    "print('Ordo Z adalah',Z.shape)\n",
    "print()\n",
    "P=A @ A_tran\n",
    "print('P = A_transpose x A =\\n',P)\n",
    "print('Ordo P adalah',P.shape)"
   ]
  },
  {
   "cell_type": "code",
   "execution_count": 16,
   "metadata": {},
   "outputs": [
    {
     "name": "stdout",
     "output_type": "stream",
     "text": [
      "Matrix_A sebelum di transpose=\n",
      " [[-1  8  3]\n",
      " [ 3  2  8]]\n",
      "\n",
      "Matrix A setelah di transpose=\n",
      " [[-1  3]\n",
      " [ 8  2]\n",
      " [ 3  8]]\n",
      "Ordo Matrix_A_Transpose adalah (3, 2)\n",
      "\n",
      "Matrix_Z = Matrix_A_Transpose x Matrix_A =\n",
      " [[10 -2 21]\n",
      " [-2 68 40]\n",
      " [21 40 73]]\n",
      "Ordo Z adalah (3, 3)\n",
      "\n",
      "P = A_transpose x A =\n",
      " [[74 37]\n",
      " [37 77]]\n",
      "ordo Matrix P adalah (2, 2)\n"
     ]
    }
   ],
   "source": [
    "# Soal dengan Matrix 3x2\n",
    "\n",
    "Matrix_A = np.array([[-1,8,3],[3,2,8]])\n",
    "\n",
    "Matrix_A_Trans = Matrix_A.transpose()\n",
    "print('Matrix_A sebelum di transpose=\\n', Matrix_A)\n",
    "print()\n",
    "\n",
    "print('Matrix A setelah di transpose=\\n',Matrix_A_Trans)\n",
    "print('Ordo Matrix_A_Transpose adalah',Matrix_A_Trans.shape)\n",
    "print()\n",
    "\n",
    "Matrix_Z = Matrix_A_Trans @ Matrix_A\n",
    "print('Matrix_Z = Matrix_A_Transpose x Matrix_A =\\n',Matrix_Z)\n",
    "print('Ordo Z adalah',Z.shape)\n",
    "print()\n",
    "\n",
    "Matrix_P = Matrix_A @ Matrix_A_Trans\n",
    "print('P = A_transpose x A =\\n',Matrix_P)\n",
    "print('ordo Matrix P adalah',Matrix_P.shape)"
   ]
  },
  {
   "cell_type": "markdown",
   "metadata": {},
   "source": [
    "Program untuk mengkalikan Matrix A dengan Matrix B Secara Manual tidak menggunakan @"
   ]
  },
  {
   "cell_type": "code",
   "execution_count": 17,
   "metadata": {},
   "outputs": [
    {
     "name": "stdout",
     "output_type": "stream",
     "text": [
      " Matrix_1 = [[3, 3, 7], [7, -1, 4], [8, 4, 2]]\n",
      "\n",
      " Matrix_2 = [[6, 7, 4], [9, 4, 5], [1, -2, 3]]\n",
      "\n",
      "Hasil perkalian Matrix_1 dan Matrix 2 = [[52, 19, 48], [37, 37, 35], [86, 68, 58]]\n",
      "\n",
      "Pembuktian untuk Matrix A @ B =\n",
      "[[16 10 56]\n",
      " [ 5  7 29]\n",
      " [18 78 69]]\n"
     ]
    }
   ],
   "source": [
    "Matrix_1 = [[3,3,7],\n",
    "            [7,-1,4],\n",
    "            [8,4,2]]\n",
    "\n",
    "Matrix_2 = [[6,7,4],\n",
    "            [9,4,5],\n",
    "            [1,-2,3]]\n",
    "Result = []\n",
    "\n",
    "print(f\" Matrix_1 = {Matrix_1}\")\n",
    "print()\n",
    "print(f\" Matrix_2 = {Matrix_2}\")\n",
    "\n",
    "def multiply_matrix(matrix1,matrix2):\n",
    "  result = [[0,0,0],[0,0,0],[0,0,0]] # Menginisialisasikan dulu matrix dengan semua value 0\n",
    "\n",
    "  for i in range(len(Matrix_1)):\n",
    "    for j in range(len(Matrix_2[0])):\n",
    "      for k in range(len(Matrix_2)):\n",
    "        result[i][j] += Matrix_1[i][k] * Matrix_2[k][j]\n",
    "  return result\n",
    "\n",
    "hasil = multiply_matrix(Matrix_1,Matrix_2)\n",
    "print()\n",
    "print(f\"Hasil perkalian Matrix_1 dan Matrix 2 = {hasil}\")\n",
    "print()\n",
    "print(f\"Pembuktian untuk Matrix A @ B =\\n{A @ B}\")"
   ]
  }
 ],
 "metadata": {
  "kernelspec": {
   "display_name": "Python 3 (ipykernel)",
   "language": "python",
   "name": "python3"
  }
 },
 "nbformat": 4,
 "nbformat_minor": 2
}
