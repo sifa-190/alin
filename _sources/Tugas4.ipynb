{
 "cells": [
  {
   "cell_type": "markdown",
   "metadata": {},
   "source": [
    "# DETERMINAN\n",
    "Asumsikan A adalah suatu matriks bujur sangkar, fungsi\n",
    "determinan, det(A) adalah jumlah semua hasil kali dasar\n",
    "bertanda dari A. atau Determinan ordo n ialah suatu skalar yang terkait dengan\n",
    "sebuah matriks bujur sangkar A yang berordo n.\n",
    "\n",
    "## MINOR & KOFAKTOR DETERMINAN\n",
    "\n",
    "- Jika A adalah suatu matriks bujur sangkar, maka Minor\n",
    "elemen aij (Mij) didefinisikan sebagai determinan submatriks yang masih tersisa setelah baris ke-i dan kolomke-j dihilangkan\n",
    "- Kofaktor elemen aij dinyatakan sebagai $k_{ij} = (-1)^{i+j} M_{ij}$ \n",
    "\n",
    "## SIFAT-SIFAT DETERMINAN\n",
    "\n",
    "- det(A) = 0 jika dalam suatu baris/kolom semua elemennya\n",
    "nol\n",
    "- det(A) = det(AT)\n",
    "- Nilai determinan menjadi k kali bila dalam satu\n",
    "baris/kolom dikalikan dengan k (suatu skala).\n",
    "- det(A) = 0 jika 2 baris/kolom sebanding.\n",
    "-  Nilai determinan berubah tanda jika dua baris/kolomditukar tempatnya\n",
    "- Nilai determinan tidak berubah jika baris/kolom ke – i\n",
    "ditambah k kali baris/kolom ke – j."
   ]
  },
  {
   "cell_type": "code",
   "execution_count": 51,
   "metadata": {
    "metadata": {}
   },
   "outputs": [],
   "source": [
    "# import library numpy\n",
    "import numpy as np\n",
    "\n",
    "def RowSwap(A,k,l):\n",
    "# =============================================================================\n",
    "#     A adalah sebuah NumPy array.  RowSwap akan menghasilkan duplicate dari\n",
    "#     array dengan baris k dan l di tukar\n",
    "# =============================================================================\n",
    "    m = A.shape[0]  # m adalah nomor baris di A\n",
    "    n = A.shape[1]  # n adalah nomor kolom di A\n",
    "\n",
    "    B = np.copy(A).astype('float64')\n",
    "\n",
    "    for j in range(n):\n",
    "        temp = B[k][j]\n",
    "        B[k][j] = B[l][j]\n",
    "        B[l][j] = temp\n",
    "\n",
    "    return B\n",
    "\n",
    "def RowScale(A,k,scale):\n",
    "# =============================================================================\n",
    "#     A adalah sebuah NumPy array.  RowScale akan menghasilkan duplicate dari\n",
    "#     array dengan baris k di kali dengan skalar bukan 0\n",
    "# =============================================================================\n",
    "    m = A.shape[0]  # m adalah nomor baris di A\n",
    "    n = A.shape[1]  # n adalah nomor kolom di A\n",
    "\n",
    "    B = np.copy(A).astype('float64')\n",
    "\n",
    "    for j in range(n):\n",
    "        B[k][j] *= scale\n",
    "\n",
    "    return B\n",
    "\n",
    "def RowAdd(A,k,l,scale):\n",
    "# =============================================================================\n",
    "#     A adalah sebuah NumPy array.  RowAdd akan menghasilkan duplicate dari\n",
    "#     array dengan baris k akan di kali dengan 'scale' bukan 0. lalu nilai\n",
    "#     baris l akan di tambah dengan nilai baris k yang sudah dikalikan\n",
    "# =============================================================================\n",
    "    m = A.shape[0]  # m adalah nomor baris di A\n",
    "    n = A.shape[1]  # n adalah nomor kolom di A\n",
    "\n",
    "    B = np.copy(A).astype('float64')\n",
    "\n",
    "    for j in range(n):\n",
    "        B[l][j] += B[k][j]*scale\n",
    "\n",
    "    return B"
   ]
  },
  {
   "cell_type": "code",
   "execution_count": 52,
   "metadata": {
    "metadata": {}
   },
   "outputs": [
    {
     "name": "stdout",
     "output_type": "stream",
     "text": [
      "[[1 3]\n",
      " [3 1]]\n",
      "[[4 2 3]\n",
      " [2 1 3]\n",
      " [1 2 2]]\n",
      "[[2 0]\n",
      " [3 1]]\n",
      "[[1 2 0]\n",
      " [3 1 0]\n",
      " [2 0 1]]\n"
     ]
    }
   ],
   "source": [
    "import numpy as np\n",
    "\n",
    "A = np.array([[1, 3], [3, 1]])\n",
    "B = np.array([[4, 2, 3], [2, 1, 3], [1, 2, 2]])\n",
    "C = np.array([[2, 0], [3, 1]])\n",
    "D = np.array([[1, 2, 0], [3, 1, 0], [2, 0, 1]])\n",
    "\n",
    "print(A)\n",
    "print(B)\n",
    "print(C)\n",
    "print(D)\n",
    "\n",
    "\n"
   ]
  },
  {
   "cell_type": "markdown",
   "metadata": {},
   "source": [
    "## Determinan dari sebuah matriks identitas = 1 ##"
   ]
  },
  {
   "cell_type": "code",
   "execution_count": 53,
   "metadata": {
    "metadata": {}
   },
   "outputs": [
    {
     "name": "stdout",
     "output_type": "stream",
     "text": [
      "2.0\n",
      "-5.000000000000001\n",
      "-8.000000000000002\n",
      "-8.999999999999998\n"
     ]
    }
   ],
   "source": [
    "E = np.linalg.det(C)\n",
    "F = np.linalg.det(D)\n",
    "a = np.linalg.det(A)\n",
    "b = np.linalg.det(B)\n",
    "\n",
    "print(E)\n",
    "print(F)\n",
    "print(a)\n",
    "print(b)"
   ]
  },
  {
   "cell_type": "markdown",
   "metadata": {},
   "source": [
    "## mencari invers matriks A"
   ]
  },
  {
   "cell_type": "code",
   "execution_count": 54,
   "metadata": {
    "metadata": {}
   },
   "outputs": [
    {
     "name": "stdout",
     "output_type": "stream",
     "text": [
      "[[-0.125  0.375]\n",
      " [ 0.375 -0.125]]\n",
      "[[ 0.44444444 -0.22222222 -0.33333333]\n",
      " [ 0.11111111 -0.55555556  0.66666667]\n",
      " [-0.33333333  0.66666667  0.        ]]\n"
     ]
    }
   ],
   "source": [
    "G = np.linalg.inv(A)\n",
    "H = np.linalg.inv(B)\n",
    "\n",
    "print(G)\n",
    "print(H)"
   ]
  },
  {
   "cell_type": "markdown",
   "metadata": {},
   "source": [
    "## determinan i = det a . det a invers"
   ]
  },
  {
   "cell_type": "code",
   "execution_count": 55,
   "metadata": {
    "metadata": {}
   },
   "outputs": [
    {
     "name": "stdout",
     "output_type": "stream",
     "text": [
      "-0.12499999999999997\n",
      "-0.11111111111111109\n"
     ]
    }
   ],
   "source": [
    "I = np.linalg.det(G)\n",
    "J = np.linalg.det(H)\n",
    "\n",
    "print(I)\n",
    "print(J)"
   ]
  },
  {
   "cell_type": "markdown",
   "metadata": {},
   "source": [
    "Sifat yang kedua  misalkan ab\n",
    "\n",
    "det ab = det a . det b\n",
    "\n",
    "---\n",
    "\n",
    "i = a. a invers\n",
    "\n",
    "det i = det a . det a invers\n",
    "\n",
    "det a invers = 1/ det a"
   ]
  },
  {
   "cell_type": "code",
   "execution_count": 56,
   "metadata": {
    "metadata": {}
   },
   "outputs": [
    {
     "name": "stdout",
     "output_type": "stream",
     "text": [
      "[[2 1 1]\n",
      " [1 3 2]\n",
      " [2 3 1]]\n",
      "[[1 4 2]\n",
      " [2 1 3]\n",
      " [2 3 2]]\n"
     ]
    }
   ],
   "source": [
    "e = np.array([[2,1,1],[1,3,2],[2,3,1]])\n",
    "f = np.array([[1,4,2],[2,1,3],[2,3,2]])\n",
    "\n",
    "print(e)\n",
    "print(f)"
   ]
  },
  {
   "cell_type": "code",
   "execution_count": 57,
   "metadata": {
    "metadata": {}
   },
   "outputs": [
    {
     "name": "stdout",
     "output_type": "stream",
     "text": [
      "[[1 4 2]\n",
      " [1 1 1]\n",
      " [3 2 1]]\n"
     ]
    }
   ],
   "source": [
    "A = np.array([[1,4,2],[1,1,1],[3,2,1]])\n",
    "\n",
    "print(A)"
   ]
  },
  {
   "cell_type": "code",
   "execution_count": 58,
   "metadata": {
    "metadata": {}
   },
   "outputs": [
    {
     "name": "stdout",
     "output_type": "stream",
     "text": [
      "5.0\n"
     ]
    }
   ],
   "source": [
    "a = np.linalg.det(A)\n",
    "\n",
    "print(a.round())"
   ]
  },
  {
   "cell_type": "markdown",
   "metadata": {},
   "source": [
    "## merubah baris darisebuah matriks akan merubah sebuah tanda dari determinan"
   ]
  },
  {
   "cell_type": "code",
   "execution_count": 59,
   "metadata": {
    "metadata": {}
   },
   "outputs": [
    {
     "name": "stdout",
     "output_type": "stream",
     "text": [
      "[[1 1 1]\n",
      " [1 4 2]\n",
      " [3 2 1]]\n"
     ]
    }
   ],
   "source": [
    "A1 = np.array([[1,1,1],[1,4,2],[3,2,1]])\n",
    "\n",
    "print(A1)"
   ]
  },
  {
   "cell_type": "code",
   "execution_count": 60,
   "metadata": {
    "metadata": {}
   },
   "outputs": [
    {
     "name": "stdout",
     "output_type": "stream",
     "text": [
      "-5.0\n"
     ]
    }
   ],
   "source": [
    "a = np.linalg.det(A1)\n",
    "\n",
    "print(a.round())"
   ]
  },
  {
   "cell_type": "markdown",
   "metadata": {},
   "source": [
    "## merubah kolom pada matriks"
   ]
  },
  {
   "cell_type": "code",
   "execution_count": 61,
   "metadata": {
    "metadata": {}
   },
   "outputs": [
    {
     "name": "stdout",
     "output_type": "stream",
     "text": [
      "[[4 1 2]\n",
      " [1 1 1]\n",
      " [2 3 1]]\n"
     ]
    }
   ],
   "source": [
    "A = np.array([[4,1,2],[1,1,1],[2,3,1]])\n",
    "\n",
    "print(A)"
   ]
  },
  {
   "cell_type": "code",
   "execution_count": 62,
   "metadata": {
    "metadata": {}
   },
   "outputs": [
    {
     "name": "stdout",
     "output_type": "stream",
     "text": [
      "-5.0\n"
     ]
    }
   ],
   "source": [
    "a = np.linalg.det(A)\n",
    "\n",
    "print(a.round())"
   ]
  },
  {
   "cell_type": "markdown",
   "metadata": {},
   "source": [
    "Penjelasan :\n",
    "- jika baris dari matrik merupakan kelipatan dari baris yang lain maka nilai matriks determinan yang ada sama dengan 0\n",
    "- kelipatan baris matriknya adalah 2 kali matriks awal"
   ]
  },
  {
   "cell_type": "code",
   "execution_count": 63,
   "metadata": {
    "metadata": {}
   },
   "outputs": [
    {
     "name": "stdout",
     "output_type": "stream",
     "text": [
      "[[1 4 2]\n",
      " [2 8 4]\n",
      " [3 2 1]]\n"
     ]
    }
   ],
   "source": [
    "B = np.array([[1,4,2],[2,8,4],[3,2,1]])\n",
    "\n",
    "print(B)"
   ]
  },
  {
   "cell_type": "code",
   "execution_count": 64,
   "metadata": {
    "metadata": {}
   },
   "outputs": [
    {
     "name": "stdout",
     "output_type": "stream",
     "text": [
      "0.0\n"
     ]
    }
   ],
   "source": [
    "b = np.linalg.det(B)\n",
    "\n",
    "print(b.round())"
   ]
  },
  {
   "cell_type": "markdown",
   "metadata": {},
   "source": [
    "k = skala\n",
    "\n",
    "A = matriks nxn\n",
    "\n",
    "det k.A = K pangkat n dikali det A"
   ]
  },
  {
   "cell_type": "code",
   "execution_count": 65,
   "metadata": {
    "metadata": {}
   },
   "outputs": [
    {
     "name": "stdout",
     "output_type": "stream",
     "text": [
      "[[1 4 2]\n",
      " [1 1 1]\n",
      " [3 2 1]]\n"
     ]
    }
   ],
   "source": [
    "A = np.array([[1,4,2],[1,1,1],[3,2,1]])\n",
    "\n",
    "print(A)"
   ]
  },
  {
   "cell_type": "code",
   "execution_count": 66,
   "metadata": {
    "metadata": {}
   },
   "outputs": [
    {
     "name": "stdout",
     "output_type": "stream",
     "text": [
      "5.0\n"
     ]
    }
   ],
   "source": [
    "a = np.linalg.det(A)\n",
    "\n",
    "print(a.round())"
   ]
  },
  {
   "cell_type": "code",
   "execution_count": 67,
   "metadata": {
    "metadata": {}
   },
   "outputs": [
    {
     "name": "stdout",
     "output_type": "stream",
     "text": [
      "[[2 8 4]\n",
      " [2 2 2]\n",
      " [6 4 2]]\n"
     ]
    }
   ],
   "source": [
    "KA = np.array([[2,8,4],[2,2,2],[6,4,2]])\n",
    "\n",
    "print(KA)"
   ]
  },
  {
   "cell_type": "markdown",
   "metadata": {},
   "source": [
    "det (KA) = 2 pangkat 3 . 5\n",
    "\n",
    "         = 40"
   ]
  },
  {
   "cell_type": "code",
   "execution_count": 68,
   "metadata": {
    "metadata": {}
   },
   "outputs": [
    {
     "name": "stdout",
     "output_type": "stream",
     "text": [
      "40.0\n"
     ]
    }
   ],
   "source": [
    "b = np.linalg.det(KA)\n",
    "\n",
    "print(b.round())"
   ]
  },
  {
   "cell_type": "code",
   "execution_count": 69,
   "metadata": {
    "metadata": {}
   },
   "outputs": [
    {
     "name": "stdout",
     "output_type": "stream",
     "text": [
      "[[2 8 4]\n",
      " [1 1 1]\n",
      " [3 2 1]]\n"
     ]
    }
   ],
   "source": [
    "B = np.array([[2,8,4],[1,1,1],[3,2,1]])\n",
    "\n",
    "print(B)"
   ]
  },
  {
   "cell_type": "markdown",
   "metadata": {},
   "source": [
    "= 2*Det A"
   ]
  },
  {
   "cell_type": "markdown",
   "metadata": {},
   "source": [
    "maka dengan t adalah skala\n",
    "\n",
    "maka det(b) = t kali dengan Det (A)"
   ]
  },
  {
   "cell_type": "code",
   "execution_count": 70,
   "metadata": {
    "metadata": {}
   },
   "outputs": [
    {
     "name": "stdout",
     "output_type": "stream",
     "text": [
      "10.0\n"
     ]
    }
   ],
   "source": [
    "b = np.linalg.det(B)\n",
    "\n",
    "print(b.round())"
   ]
  },
  {
   "cell_type": "markdown",
   "metadata": {},
   "source": [
    "## \n",
    "- Matriks segitiga atas\n",
    "dimana d bawah diagonal elemennya nol\n",
    "-  matriks segitiga bawah\n",
    "dimana diatas diagonal elemennya nol"
   ]
  },
  {
   "cell_type": "markdown",
   "metadata": {},
   "source": [
    "det matrik segitiga adalah\n",
    "det A = d1 kali d2 sampai dn\n",
    "- perkalian pada setiap elemen diagonal matriksnya"
   ]
  },
  {
   "cell_type": "code",
   "execution_count": 71,
   "metadata": {
    "metadata": {}
   },
   "outputs": [
    {
     "name": "stdout",
     "output_type": "stream",
     "text": [
      "[[2 3 1 2]\n",
      " [0 1 2 1]\n",
      " [0 0 5 2]\n",
      " [0 0 0 3]]\n"
     ]
    }
   ],
   "source": [
    "A = np.array([[2,3,1,2],[0,1,2,1],[0,0,5,2],[0,0,0,3]])\n",
    "\n",
    "print(A)"
   ]
  },
  {
   "cell_type": "markdown",
   "metadata": {},
   "source": [
    "det (A) = 2.1.5.3 = 30"
   ]
  },
  {
   "cell_type": "code",
   "execution_count": 72,
   "metadata": {
    "metadata": {}
   },
   "outputs": [
    {
     "name": "stdout",
     "output_type": "stream",
     "text": [
      "30.0\n"
     ]
    }
   ],
   "source": [
    "a = np.linalg.det(A)\n",
    "\n",
    "print(a.round())"
   ]
  },
  {
   "cell_type": "markdown",
   "metadata": {},
   "source": [
    "Merubah nilai baris tidak merubah nilai determinan dari suatu matriks"
   ]
  },
  {
   "cell_type": "code",
   "execution_count": 73,
   "metadata": {
    "metadata": {}
   },
   "outputs": [
    {
     "name": "stdout",
     "output_type": "stream",
     "text": [
      "[[1 4 2]\n",
      " [1 1 1]\n",
      " [3 2 1]]\n"
     ]
    }
   ],
   "source": [
    "A = np.array([[1,4,2],[1,1,1],[3,2,1]])\n",
    "\n",
    "print(A)"
   ]
  },
  {
   "cell_type": "code",
   "execution_count": 74,
   "metadata": {
    "metadata": {}
   },
   "outputs": [
    {
     "name": "stdout",
     "output_type": "stream",
     "text": [
      "5.0\n"
     ]
    }
   ],
   "source": [
    "a = np.linalg.det(A)\n",
    "\n",
    "print(a.round())"
   ]
  },
  {
   "cell_type": "code",
   "execution_count": 75,
   "metadata": {
    "metadata": {}
   },
   "outputs": [
    {
     "name": "stdout",
     "output_type": "stream",
     "text": [
      "[[ 1  4  2]\n",
      " [ 0 -3 -1]\n",
      " [ 3  2  1]]\n"
     ]
    }
   ],
   "source": [
    "B = np.array([[1,4,2],[0,-3,-1],[3,2,1]])\n",
    "\n",
    "print(B)"
   ]
  },
  {
   "cell_type": "code",
   "execution_count": 76,
   "metadata": {
    "metadata": {}
   },
   "outputs": [
    {
     "name": "stdout",
     "output_type": "stream",
     "text": [
      "5.0\n"
     ]
    }
   ],
   "source": [
    "b = np.linalg.det(B)\n",
    "\n",
    "print(b.round())"
   ]
  },
  {
   "cell_type": "markdown",
   "metadata": {},
   "source": [
    "det A transpose = det A"
   ]
  },
  {
   "cell_type": "code",
   "execution_count": 77,
   "metadata": {
    "metadata": {}
   },
   "outputs": [
    {
     "name": "stdout",
     "output_type": "stream",
     "text": [
      "[[1 4 2]\n",
      " [1 1 1]\n",
      " [3 2 1]]\n"
     ]
    }
   ],
   "source": [
    "A = np.array([[1,4,2],[1,1,1],[3,2,1]])\n",
    "\n",
    "print(A)"
   ]
  },
  {
   "cell_type": "code",
   "execution_count": 78,
   "metadata": {
    "metadata": {}
   },
   "outputs": [
    {
     "name": "stdout",
     "output_type": "stream",
     "text": [
      "[[1 1 3]\n",
      " [4 1 2]\n",
      " [2 1 1]]\n"
     ]
    }
   ],
   "source": [
    "A1 = np.transpose(A)\n",
    "\n",
    "print(A1)"
   ]
  },
  {
   "cell_type": "code",
   "execution_count": 79,
   "metadata": {
    "metadata": {}
   },
   "outputs": [
    {
     "name": "stdout",
     "output_type": "stream",
     "text": [
      "5.0\n"
     ]
    }
   ],
   "source": [
    "a = np.linalg.det(A1)\n",
    "\n",
    "print(a.round())"
   ]
  },
  {
   "cell_type": "markdown",
   "metadata": {},
   "source": [
    "## EKSPANSE KONFAKTOR\n",
    " adalah salah satu metode mencari determinan suatu matriks, di mana dalam metode ini memanfaatkan kofaktor. Pencarian determinan menggunakan metode ini tidak terbatas dengan satu ukuran matriks. Dengan kata lain, dapat dihitung matriks 3x3, 4x4, 5x5, dan seterusnya."
   ]
  },
  {
   "cell_type": "code",
   "execution_count": 80,
   "metadata": {
    "metadata": {}
   },
   "outputs": [
    {
     "name": "stdout",
     "output_type": "stream",
     "text": [
      "[[2 1 4 3]\n",
      " [3 2 1 1]\n",
      " [1 1 3 2]\n",
      " [4 3 2 4]]\n"
     ]
    }
   ],
   "source": [
    "a =np.array([[2,1,4,3],[3,2,1,1],[1,1,3,2],[4,3,2,4]])\n",
    "\n",
    "print(a)"
   ]
  },
  {
   "cell_type": "code",
   "execution_count": 81,
   "metadata": {
    "metadata": {}
   },
   "outputs": [
    {
     "name": "stdout",
     "output_type": "stream",
     "text": [
      "14.0\n"
     ]
    }
   ],
   "source": [
    "b = np.linalg.det(a)\n",
    "\n",
    "print(b.round())"
   ]
  },
  {
   "cell_type": "markdown",
   "metadata": {},
   "source": [
    "## CONTOH PENYELESAIAN MATRIKS DETERMINAN DENGAN METODE EKSPANSI KONFAKTOR\n",
    "\n",
    "Menggunakan Matriks 4X4 sebagai berikut :\n",
    "\n",
    "$ A = \\begin{pmatrix}\n",
    "2 & 1 & 4 & 3 \\\\\n",
    "3 & 2 & 1 & 1 \\\\\n",
    "1 & 1 & 3 & 2 \\\\\n",
    "4 & 3 & 2 & 4 \\\\\n",
    "\\end{pmatrix} $\n",
    "\n",
    "Rumus Penurunan Kofaktor dengan cara menangani ekspansi kofaktor 3×3 . Kita ambil submatriks kedua di atas dan dilambangkan dengan M :\n",
    "- A31 C31 = $(-1)^{3+1}(det M21)$\n",
    "- A22 C32 = $(-1)^{3+2}(det M22)$\n",
    "- A23 C33 = $(-1)^{3+3}(det M23)$\n",
    "- A24 C34 = $(-1)^{3+4}(det M24)$\n",
    "\n",
    "Dimana :\n",
    "\n",
    "$ M31 = \\begin{pmatrix}\n",
    "1 & 4 & 3 \\\\\n",
    "2 & 1 & 1 \\\\\n",
    "3 & 2 & 4 \\\\\n",
    "\\end{pmatrix}\n",
    "M32 = \\begin{pmatrix}\n",
    "2 & 4 & 3 \\\\\n",
    "3 & 1 & 1 \\\\\n",
    "4 & 2 & 4 \\\\\n",
    "\\end{pmatrix} $\n",
    "\n",
    "$ M33 = \\begin{pmatrix}\n",
    "2 & 1 & 3 \\\\\n",
    "3 & 2 & 1 \\\\\n",
    "4 & 3 & 4 \\\\\n",
    "\\end{pmatrix}\n",
    "M34 = \\begin{pmatrix}\n",
    "2 & 1 & 4 \\\\\n",
    "3 & 2 & 1 \\\\\n",
    "4 & 3 & 2 \\\\\n",
    "\\end{pmatrix} $\n",
    "\n",
    "Hitung menangani Setiap ekspansi Kofaktor 2X2 dari M21. Kita ambil submatriks kedua di atas dan dilambangkan dengan detM :\n",
    "- A11 C11 = $(-1)^{1+1}(det M11)$\n",
    "- A12 C12 = $(-1)^{1+2}(det M12)$\n",
    "- A13 C13 = $(-1)^{1+3}(det M13)$\n",
    "\n",
    "Dimana Det:\n",
    "\n",
    "$ M11 = \\begin{pmatrix}\n",
    "1 & 1 \\\\\n",
    "2 & 4 \\\\\n",
    "\\end{pmatrix}\n",
    "M12 = \\begin{pmatrix}\n",
    "2 & 1 \\\\\n",
    "3 & 4 \\\\\n",
    "\\end{pmatrix} \n",
    "M13 = \\begin{pmatrix}\n",
    "2 & 1 \\\\\n",
    "3 & 2 \\\\\n",
    "\\end{pmatrix} $"
   ]
  }
 ],
 "metadata": {
  "kernelspec": {
   "display_name": "Python 3 (ipykernel)",
   "language": "python",
   "name": "python3"
  },
  "language_info": {
   "codemirror_mode": {
    "name": "ipython",
    "version": 3
   },
   "file_extension": ".py",
   "mimetype": "text/x-python",
   "name": "python",
   "nbconvert_exporter": "python",
   "pygments_lexer": "ipython3",
   "version": "3.10.13"
  }
 },
 "nbformat": 4,
 "nbformat_minor": 2
}
